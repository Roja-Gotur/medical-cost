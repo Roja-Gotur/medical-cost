{
 "cells": [
  {
   "cell_type": "code",
   "execution_count": 1,
   "metadata": {
    "_cell_guid": "b1076dfc-b9ad-4769-8c92-a6c4dae69d19",
    "_uuid": "8f2839f25d086af736a60e9eeb907d3b93b6e0e5",
    "execution": {
     "iopub.execute_input": "2021-03-31T17:27:19.771093Z",
     "iopub.status.busy": "2021-03-31T17:27:19.770289Z",
     "iopub.status.idle": "2021-03-31T17:27:20.804846Z",
     "shell.execute_reply": "2021-03-31T17:27:20.804012Z"
    },
    "papermill": {
     "duration": 1.052425,
     "end_time": "2021-03-31T17:27:20.805069",
     "exception": false,
     "start_time": "2021-03-31T17:27:19.752644",
     "status": "completed"
    },
    "tags": []
   },
   "outputs": [
    {
     "name": "stdout",
     "output_type": "stream",
     "text": [
      "/kaggle/input/insurance/insurance.csv\n"
     ]
    }
   ],
   "source": [
    "# This Python 3 environment comes with many helpful analytics libraries installed\n",
    "# It is defined by the kaggle/python Docker image: https://github.com/kaggle/docker-python\n",
    "# For example, here's several helpful packages to load\n",
    "\n",
    "import numpy as np # linear algebra\n",
    "import pandas as pd # data processing, CSV file I/O (e.g. pd.read_csv)\n",
    "import matplotlib.pyplot as plt\n",
    "import seaborn as sns\n",
    "\n",
    "# Input data files are available in the read-only \"../input/\" directory\n",
    "# For example, running this (by clicking run or pressing Shift+Enter) will list all files under the input directory\n",
    "\n",
    "import os\n",
    "for dirname, _, filenames in os.walk('/kaggle/input'):\n",
    "    for filename in filenames:\n",
    "        print(os.path.join(dirname, filename))\n",
    "\n",
    "# You can write up to 20GB to the current directory (/kaggle/working/) that gets preserved as output when you create a version using \"Save & Run All\" \n",
    "# You can also write temporary files to /kaggle/temp/, but they won't be saved outside of the current session"
   ]
  },
  {
   "cell_type": "code",
   "execution_count": 2,
   "metadata": {
    "execution": {
     "iopub.execute_input": "2021-03-31T17:27:20.832770Z",
     "iopub.status.busy": "2021-03-31T17:27:20.832059Z",
     "iopub.status.idle": "2021-03-31T17:27:20.878927Z",
     "shell.execute_reply": "2021-03-31T17:27:20.878199Z"
    },
    "papermill": {
     "duration": 0.062208,
     "end_time": "2021-03-31T17:27:20.879075",
     "exception": false,
     "start_time": "2021-03-31T17:27:20.816867",
     "status": "completed"
    },
    "tags": []
   },
   "outputs": [
    {
     "data": {
      "text/html": [
       "<div>\n",
       "<style scoped>\n",
       "    .dataframe tbody tr th:only-of-type {\n",
       "        vertical-align: middle;\n",
       "    }\n",
       "\n",
       "    .dataframe tbody tr th {\n",
       "        vertical-align: top;\n",
       "    }\n",
       "\n",
       "    .dataframe thead th {\n",
       "        text-align: right;\n",
       "    }\n",
       "</style>\n",
       "<table border=\"1\" class=\"dataframe\">\n",
       "  <thead>\n",
       "    <tr style=\"text-align: right;\">\n",
       "      <th></th>\n",
       "      <th>age</th>\n",
       "      <th>sex</th>\n",
       "      <th>bmi</th>\n",
       "      <th>children</th>\n",
       "      <th>smoker</th>\n",
       "      <th>region</th>\n",
       "      <th>charges</th>\n",
       "    </tr>\n",
       "  </thead>\n",
       "  <tbody>\n",
       "    <tr>\n",
       "      <th>0</th>\n",
       "      <td>19</td>\n",
       "      <td>female</td>\n",
       "      <td>27.900</td>\n",
       "      <td>0</td>\n",
       "      <td>yes</td>\n",
       "      <td>southwest</td>\n",
       "      <td>16884.92400</td>\n",
       "    </tr>\n",
       "    <tr>\n",
       "      <th>1</th>\n",
       "      <td>18</td>\n",
       "      <td>male</td>\n",
       "      <td>33.770</td>\n",
       "      <td>1</td>\n",
       "      <td>no</td>\n",
       "      <td>southeast</td>\n",
       "      <td>1725.55230</td>\n",
       "    </tr>\n",
       "    <tr>\n",
       "      <th>2</th>\n",
       "      <td>28</td>\n",
       "      <td>male</td>\n",
       "      <td>33.000</td>\n",
       "      <td>3</td>\n",
       "      <td>no</td>\n",
       "      <td>southeast</td>\n",
       "      <td>4449.46200</td>\n",
       "    </tr>\n",
       "    <tr>\n",
       "      <th>3</th>\n",
       "      <td>33</td>\n",
       "      <td>male</td>\n",
       "      <td>22.705</td>\n",
       "      <td>0</td>\n",
       "      <td>no</td>\n",
       "      <td>northwest</td>\n",
       "      <td>21984.47061</td>\n",
       "    </tr>\n",
       "    <tr>\n",
       "      <th>4</th>\n",
       "      <td>32</td>\n",
       "      <td>male</td>\n",
       "      <td>28.880</td>\n",
       "      <td>0</td>\n",
       "      <td>no</td>\n",
       "      <td>northwest</td>\n",
       "      <td>3866.85520</td>\n",
       "    </tr>\n",
       "  </tbody>\n",
       "</table>\n",
       "</div>"
      ],
      "text/plain": [
       "   age     sex     bmi  children smoker     region      charges\n",
       "0   19  female  27.900         0    yes  southwest  16884.92400\n",
       "1   18    male  33.770         1     no  southeast   1725.55230\n",
       "2   28    male  33.000         3     no  southeast   4449.46200\n",
       "3   33    male  22.705         0     no  northwest  21984.47061\n",
       "4   32    male  28.880         0     no  northwest   3866.85520"
      ]
     },
     "execution_count": 2,
     "metadata": {},
     "output_type": "execute_result"
    }
   ],
   "source": [
    "insurance_df = pd.read_csv('/kaggle/input/insurance/insurance.csv')\n",
    "insurance_df.head()"
   ]
  },
  {
   "cell_type": "code",
   "execution_count": 3,
   "metadata": {
    "execution": {
     "iopub.execute_input": "2021-03-31T17:27:20.910120Z",
     "iopub.status.busy": "2021-03-31T17:27:20.909274Z",
     "iopub.status.idle": "2021-03-31T17:27:20.914772Z",
     "shell.execute_reply": "2021-03-31T17:27:20.914236Z"
    },
    "papermill": {
     "duration": 0.025041,
     "end_time": "2021-03-31T17:27:20.914922",
     "exception": false,
     "start_time": "2021-03-31T17:27:20.889881",
     "status": "completed"
    },
    "tags": []
   },
   "outputs": [
    {
     "data": {
      "text/plain": [
       "age         0\n",
       "sex         0\n",
       "bmi         0\n",
       "children    0\n",
       "smoker      0\n",
       "region      0\n",
       "charges     0\n",
       "dtype: int64"
      ]
     },
     "execution_count": 3,
     "metadata": {},
     "output_type": "execute_result"
    }
   ],
   "source": [
    "insurance_df.isnull().sum()"
   ]
  },
  {
   "cell_type": "markdown",
   "metadata": {
    "papermill": {
     "duration": 0.011225,
     "end_time": "2021-03-31T17:27:20.940337",
     "exception": false,
     "start_time": "2021-03-31T17:27:20.929112",
     "status": "completed"
    },
    "tags": []
   },
   "source": [
    "## EDA"
   ]
  },
  {
   "cell_type": "code",
   "execution_count": 4,
   "metadata": {
    "execution": {
     "iopub.execute_input": "2021-03-31T17:27:20.989931Z",
     "iopub.status.busy": "2021-03-31T17:27:20.988266Z",
     "iopub.status.idle": "2021-03-31T17:27:21.143619Z",
     "shell.execute_reply": "2021-03-31T17:27:21.143015Z"
    },
    "papermill": {
     "duration": 0.190421,
     "end_time": "2021-03-31T17:27:21.143790",
     "exception": false,
     "start_time": "2021-03-31T17:27:20.953369",
     "status": "completed"
    },
    "tags": []
   },
   "outputs": [
    {
     "data": {
      "image/png": "[encoded data removed]",
      "text/plain": [
       "<Figure size 360x360 with 1 Axes>"
      ]
     },
     "metadata": {
      "needs_background": "light"
     },
     "output_type": "display_data"
    }
   ],
   "source": [
    "plt.figure(figsize=(5,5))\n",
    "plt.grid()\n",
    "sns.countplot(x='sex', data= insurance_df)\n",
    "plt.title(\"Sex\", fontsize=15)\n",
    "plt.show()"
   ]
  },
  {
   "cell_type": "code",
   "execution_count": 5,
   "metadata": {
    "execution": {
     "iopub.execute_input": "2021-03-31T17:27:21.191907Z",
     "iopub.status.busy": "2021-03-31T17:27:21.191084Z",
     "iopub.status.idle": "2021-03-31T17:27:21.294743Z",
     "shell.execute_reply": "2021-03-31T17:27:21.294079Z"
    },
    "papermill": {
     "duration": 0.138958,
     "end_time": "2021-03-31T17:27:21.294896",
     "exception": false,
     "start_time": "2021-03-31T17:27:21.155938",
     "status": "completed"
    },
    "tags": []
   },
   "outputs": [
    {
     "data": {
      "image/png": "[encoded data removed]",
      "text/plain": [
       "<Figure size 360x360 with 1 Axes>"
      ]
     },
     "metadata": {
      "needs_background": "light"
     },
     "output_type": "display_data"
    }
   ],
   "source": [
    "plt.figure(figsize=(5,5))\n",
    "plt.grid()\n",
    "sns.countplot(x='smoker', data= insurance_df)\n",
    "plt.title(\"Smoker\", fontsize=15)\n",
    "plt.show()"
   ]
  },
  {
   "cell_type": "code",
   "execution_count": 6,
   "metadata": {
    "execution": {
     "iopub.execute_input": "2021-03-31T17:27:21.430311Z",
     "iopub.status.busy": "2021-03-31T17:27:21.416624Z",
     "iopub.status.idle": "2021-03-31T17:27:21.672743Z",
     "shell.execute_reply": "2021-03-31T17:27:21.672010Z"
    },
    "papermill": {
     "duration": 0.364958,
     "end_time": "2021-03-31T17:27:21.672910",
     "exception": false,
     "start_time": "2021-03-31T17:27:21.307952",
     "status": "completed"
    },
    "tags": []
   },
   "outputs": [
    {
     "name": "stderr",
     "output_type": "stream",
     "text": [
      "/opt/conda/lib/python3.7/site-packages/seaborn/distributions.py:2557: FutureWarning: `distplot` is a deprecated function and will be removed in a future version. Please adapt your code to use either `displot` (a figure-level function with similar flexibility) or `histplot` (an axes-level function for histograms).\n",
      "  warnings.warn(msg, FutureWarning)\n"
     ]
    },
    {
     "data": {
      "image/png": "[encoded data removed]",
      "text/plain": [
       "<Figure size 360x360 with 1 Axes>"
      ]
     },
     "metadata": {
      "needs_background": "light"
     },
     "output_type": "display_data"
    },
    {
     "name": "stdout",
     "output_type": "stream",
     "text": [
      "The maximum age is 64\n",
      "The minimum age is 18\n",
      "The average age is 39.20702541106129\n",
      "With an exceptionally high population at age 18\n"
     ]
    }
   ],
   "source": [
    "plt.figure(figsize=(5,5))\n",
    "plt.grid()\n",
    "sns.distplot(insurance_df['age'])\n",
    "plt.title(\"Age\", fontsize=15)\n",
    "plt.show()\n",
    "\n",
    "print('The maximum age is {}'.format(insurance_df['age'].max()))\n",
    "print('The minimum age is {}'.format(insurance_df['age'].min()))\n",
    "print('The average age is {}'.format(insurance_df['age'].mean()))\n",
    "print('With an exceptionally high population at age {}'.format(int(insurance_df['age'].mode())))"
   ]
  },
  {
   "cell_type": "code",
   "execution_count": 7,
   "metadata": {
    "execution": {
     "iopub.execute_input": "2021-03-31T17:27:21.725397Z",
     "iopub.status.busy": "2021-03-31T17:27:21.723792Z",
     "iopub.status.idle": "2021-03-31T17:27:21.858800Z",
     "shell.execute_reply": "2021-03-31T17:27:21.858111Z"
    },
    "papermill": {
     "duration": 0.17077,
     "end_time": "2021-03-31T17:27:21.859031",
     "exception": false,
     "start_time": "2021-03-31T17:27:21.688261",
     "status": "completed"
    },
    "tags": []
   },
   "outputs": [
    {
     "data": {
      "image/png": "[encoded data removed]",
      "text/plain": [
       "<Figure size 360x360 with 1 Axes>"
      ]
     },
     "metadata": {
      "needs_background": "light"
     },
     "output_type": "display_data"
    }
   ],
   "source": [
    "plt.figure(figsize=(5,5))\n",
    "plt.grid()\n",
    "sns.countplot(x='region', data= insurance_df)\n",
    "plt.title(\"Region\", fontsize=15)\n",
    "plt.show()"
   ]
  },
  {
   "cell_type": "code",
   "execution_count": 8,
   "metadata": {
    "execution": {
     "iopub.execute_input": "2021-03-31T17:27:21.912522Z",
     "iopub.status.busy": "2021-03-31T17:27:21.911500Z",
     "iopub.status.idle": "2021-03-31T17:27:22.104562Z",
     "shell.execute_reply": "2021-03-31T17:27:22.104000Z"
    },
    "papermill": {
     "duration": 0.230203,
     "end_time": "2021-03-31T17:27:22.104717",
     "exception": false,
     "start_time": "2021-03-31T17:27:21.874514",
     "status": "completed"
    },
    "tags": []
   },
   "outputs": [
    {
     "data": {
      "image/png": "[encoded data removed]",
      "text/plain": [
       "<Figure size 360x360 with 1 Axes>"
      ]
     },
     "metadata": {
      "needs_background": "light"
     },
     "output_type": "display_data"
    }
   ],
   "source": [
    "plt.figure(figsize=(5,5))\n",
    "plt.grid()\n",
    "sns.countplot(x='children', data= insurance_df)\n",
    "plt.title(\"Children\", fontsize=15)\n",
    "plt.show()"
   ]
  },
  {
   "cell_type": "code",
   "execution_count": 9,
   "metadata": {
    "execution": {
     "iopub.execute_input": "2021-03-31T17:27:22.164452Z",
     "iopub.status.busy": "2021-03-31T17:27:22.161284Z",
     "iopub.status.idle": "2021-03-31T17:27:22.381153Z",
     "shell.execute_reply": "2021-03-31T17:27:22.380466Z"
    },
    "papermill": {
     "duration": 0.259078,
     "end_time": "2021-03-31T17:27:22.381300",
     "exception": false,
     "start_time": "2021-03-31T17:27:22.122222",
     "status": "completed"
    },
    "tags": []
   },
   "outputs": [
    {
     "name": "stderr",
     "output_type": "stream",
     "text": [
      "/opt/conda/lib/python3.7/site-packages/seaborn/distributions.py:2557: FutureWarning: `distplot` is a deprecated function and will be removed in a future version. Please adapt your code to use either `displot` (a figure-level function with similar flexibility) or `histplot` (an axes-level function for histograms).\n",
      "  warnings.warn(msg, FutureWarning)\n"
     ]
    },
    {
     "data": {
      "image/png": "[encoded data removed]",
      "text/plain": [
       "<Figure size 360x360 with 1 Axes>"
      ]
     },
     "metadata": {
      "needs_background": "light"
     },
     "output_type": "display_data"
    },
    {
     "name": "stdout",
     "output_type": "stream",
     "text": [
      "the max bmi is:  53.13\n",
      "the min bmi is:  15.96\n",
      "the average bmi is:  30.663396860986538\n"
     ]
    }
   ],
   "source": [
    "# displot\n",
    "plt.figure(figsize=(5,5))\n",
    "plt.grid()\n",
    "sns.distplot(insurance_df['bmi'])\n",
    "plt.title(\"bmi\", fontsize=15)\n",
    "plt.show()\n",
    "print(\"the max bmi is: \",insurance_df['bmi'].max())\n",
    "print(\"the min bmi is: \",insurance_df['bmi'].min())\n",
    "print(\"the average bmi is: \",insurance_df['bmi'].mean())"
   ]
  },
  {
   "cell_type": "code",
   "execution_count": 10,
   "metadata": {
    "execution": {
     "iopub.execute_input": "2021-03-31T17:27:22.443000Z",
     "iopub.status.busy": "2021-03-31T17:27:22.442222Z",
     "iopub.status.idle": "2021-03-31T17:27:22.693239Z",
     "shell.execute_reply": "2021-03-31T17:27:22.692575Z"
    },
    "papermill": {
     "duration": 0.292466,
     "end_time": "2021-03-31T17:27:22.693393",
     "exception": false,
     "start_time": "2021-03-31T17:27:22.400927",
     "status": "completed"
    },
    "tags": []
   },
   "outputs": [
    {
     "name": "stderr",
     "output_type": "stream",
     "text": [
      "/opt/conda/lib/python3.7/site-packages/seaborn/distributions.py:2557: FutureWarning: `distplot` is a deprecated function and will be removed in a future version. Please adapt your code to use either `displot` (a figure-level function with similar flexibility) or `histplot` (an axes-level function for histograms).\n",
      "  warnings.warn(msg, FutureWarning)\n"
     ]
    },
    {
     "data": {
      "image/png": "[encoded data removed]",
      "text/plain": [
       "<Figure size 360x360 with 1 Axes>"
      ]
     },
     "metadata": {
      "needs_background": "light"
     },
     "output_type": "display_data"
    },
    {
     "name": "stdout",
     "output_type": "stream",
     "text": [
      "the max charges is:  63770.42801\n",
      "the min charges is:  1121.8739\n",
      "the average charges is:  13270.422265141257\n"
     ]
    }
   ],
   "source": [
    "# displot\n",
    "plt.figure(figsize=(5,5))\n",
    "plt.grid()\n",
    "sns.distplot(insurance_df['charges'])\n",
    "plt.title(\"charges\", fontsize=15)\n",
    "plt.show()\n",
    "print(\"the max charges is: \",insurance_df['charges'].max())\n",
    "print(\"the min charges is: \",insurance_df['charges'].min())\n",
    "print(\"the average charges is: \",insurance_df['charges'].mean())"
   ]
  },
  {
   "cell_type": "markdown",
   "metadata": {
    "papermill": {
     "duration": 0.019953,
     "end_time": "2021-03-31T17:27:22.733979",
     "exception": false,
     "start_time": "2021-03-31T17:27:22.714026",
     "status": "completed"
    },
    "tags": []
   },
   "source": [
    "## Regression Model Run"
   ]
  },
  {
   "cell_type": "code",
   "execution_count": 11,
   "metadata": {
    "execution": {
     "iopub.execute_input": "2021-03-31T17:27:22.780223Z",
     "iopub.status.busy": "2021-03-31T17:27:22.779536Z",
     "iopub.status.idle": "2021-03-31T17:27:22.785177Z",
     "shell.execute_reply": "2021-03-31T17:27:22.784616Z"
    },
    "papermill": {
     "duration": 0.031531,
     "end_time": "2021-03-31T17:27:22.785337",
     "exception": false,
     "start_time": "2021-03-31T17:27:22.753806",
     "status": "completed"
    },
    "tags": []
   },
   "outputs": [],
   "source": [
    "X = insurance_df.drop('charges',axis=1)\n",
    "y = insurance_df['charges']"
   ]
  },
  {
   "cell_type": "code",
   "execution_count": 12,
   "metadata": {
    "execution": {
     "iopub.execute_input": "2021-03-31T17:27:22.833840Z",
     "iopub.status.busy": "2021-03-31T17:27:22.832997Z",
     "iopub.status.idle": "2021-03-31T17:27:23.112123Z",
     "shell.execute_reply": "2021-03-31T17:27:23.111404Z"
    },
    "papermill": {
     "duration": 0.305996,
     "end_time": "2021-03-31T17:27:23.112285",
     "exception": false,
     "start_time": "2021-03-31T17:27:22.806289",
     "status": "completed"
    },
    "tags": []
   },
   "outputs": [
    {
     "name": "stdout",
     "output_type": "stream",
     "text": [
      "['sex', 'smoker', 'region']\n",
      "['age', 'bmi', 'children']\n"
     ]
    }
   ],
   "source": [
    "from sklearn.model_selection import train_test_split\n",
    "X_train, X_test, y_train, y_test = train_test_split(X, y, test_size = 0.25, random_state = 42)\n",
    "\n",
    "\n",
    "categorical_cols = [cname for cname in X_train.columns if \n",
    "                    X_train[cname].dtype == \"object\"]\n",
    "\n",
    "# Select numerical columns\n",
    "numerical_cols = [cname for cname in X_train.columns if \n",
    "                X_train[cname].dtype in ['int64', 'float64']]\n",
    "print(categorical_cols)\n",
    "print(numerical_cols)"
   ]
  },
  {
   "cell_type": "code",
   "execution_count": 13,
   "metadata": {
    "execution": {
     "iopub.execute_input": "2021-03-31T17:27:23.161953Z",
     "iopub.status.busy": "2021-03-31T17:27:23.160952Z",
     "iopub.status.idle": "2021-03-31T17:27:23.899856Z",
     "shell.execute_reply": "2021-03-31T17:27:23.900499Z"
    },
    "papermill": {
     "duration": 0.768185,
     "end_time": "2021-03-31T17:27:23.900686",
     "exception": false,
     "start_time": "2021-03-31T17:27:23.132501",
     "status": "completed"
    },
    "tags": []
   },
   "outputs": [
    {
     "name": "stdout",
     "output_type": "stream",
     "text": [
      "Score: 84.7759685348058\n",
      "MAE: 2608.8314427533332\n"
     ]
    }
   ],
   "source": [
    "from sklearn.compose import ColumnTransformer\n",
    "from sklearn.pipeline import Pipeline\n",
    "from sklearn.impute import SimpleImputer\n",
    "from sklearn.preprocessing import OneHotEncoder\n",
    "from sklearn.ensemble import RandomForestRegressor\n",
    "from sklearn.metrics import mean_absolute_error\n",
    "\n",
    "# Preprocessing for numerical data\n",
    "numerical_transformer = SimpleImputer(strategy='constant')\n",
    "\n",
    "# Preprocessing for categorical data\n",
    "categorical_transformer = Pipeline(steps=[\n",
    "    ('imputer', SimpleImputer(strategy='most_frequent')),\n",
    "    ('onehot', OneHotEncoder(handle_unknown='ignore'))\n",
    "])\n",
    "\n",
    "# Bundle preprocessing for numerical and categorical data\n",
    "preprocessor = ColumnTransformer(\n",
    "    transformers=[\n",
    "        ('num', numerical_transformer, numerical_cols),\n",
    "        ('cat', categorical_transformer, categorical_cols)\n",
    "    ])\n",
    "\n",
    "# Define model\n",
    "RFR = RandomForestRegressor(n_estimators=100, random_state=0)\n",
    "\n",
    "# Bundle preprocessing and modeling code in a pipeline\n",
    "model_1 = Pipeline(steps=[('preprocessor', preprocessor),\n",
    "                      ('model', RFR)\n",
    "                     ])\n",
    "\n",
    "# Preprocessing of training data, fit model \n",
    "model_1.fit(X_train, y_train)\n",
    "\n",
    "# Preprocessing of validation data, get predictions\n",
    "preds = model_1.predict(X_test)\n",
    "\n",
    "print('Score:',model_1.score(X_test, y_test) * 100)\n",
    "\n",
    "print('MAE:', mean_absolute_error(y_test, preds))"
   ]
  }
 ],
 "metadata": {
  "kernelspec": {
   "display_name": "Python 3",
   "language": "python",
   "name": "python3"
  },
  "language_info": {
   "codemirror_mode": {
    "name": "ipython",
    "version": 3
   },
   "file_extension": ".py",
   "mimetype": "text/x-python",
   "name": "python",
   "nbconvert_exporter": "python",
   "pygments_lexer": "ipython3",
   "version": "3.7.9"
  },
  "papermill": {
   "default_parameters": {},
   "duration": 11.194147,
   "end_time": "2021-03-31T17:27:24.631872",
   "environment_variables": {},
   "exception": null,
   "input_path": "__notebook__.ipynb",
   "output_path": "__notebook__.ipynb",
   "parameters": {},
   "start_time": "2021-03-31T17:27:13.437725",
   "version": "2.2.2"
  }
 },
 "nbformat": 4,
 "nbformat_minor": 4
}
